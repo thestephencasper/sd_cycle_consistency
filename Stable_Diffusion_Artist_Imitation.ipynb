{
  "cells": [
    {
      "cell_type": "markdown",
      "metadata": {
        "id": "2sVO8BfNageX"
      },
      "source": [
        "# Stable Diffusion Objectively Succeeds at Copycatting Specific Artists’ Styles\n",
        "\n",
        "TL;DR: We compiled a set of 62 professional digital artists, each with a large amount of copyrighted work online. We found that when Stable Diffusion is prompted to imitate the artists, the artists were classified from the image successfully an average of 52/62 times (82.74%) and at best 58/62 times (93.54%).\n",
        "\n",
        "Carl Guo,* MIT, carlguo@mit.edu \n",
        "\n",
        "Shreya Mogulothu,* MIT, smog@mit.edu \n",
        "\n",
        "Chinmay Deshpande,* Harvard College, cdeshpande@college.harvard.edu\n",
        "\n",
        "Zachary Marinov,* MIT, zmarinov@mit.edu\n",
        "\n",
        "Stephen Casper,* MIT, scasper@mit.edu \n",
        "\n",
        "*Equal contribution among all authors\n",
        "\n",
        "For a non-technical writeup of the results, please click [here](https://github.com/thestephencasper/sd_cycle_consistency/tree/main)."
      ]
    },
    {
      "cell_type": "markdown",
      "metadata": {
        "id": "Q5UpW2wrbrPD"
      },
      "source": [
        "## Setting up the experiment environment"
      ]
    },
    {
      "cell_type": "code",
      "execution_count": null,
      "metadata": {
        "id": "62pKlK0V-BKa"
      },
      "outputs": [],
      "source": [
        "%%capture\n",
        "\n",
        "# install libraries\n",
        "!pip install -q transformers\n",
        "!pip install -q diffusers\n",
        "!pip install -q accelerate\n",
        "\n",
        "# import libraries\n",
        "import matplotlib.pyplot as plt\n",
        "from diffusers import StableDiffusionPipeline\n",
        "import torch\n",
        "import accelerate\n",
        "from google.colab import files\n",
        "from PIL import Image\n",
        "from transformers import CLIPProcessor, CLIPModel"
      ]
    },
    {
      "cell_type": "code",
      "execution_count": null,
      "metadata": {
        "id": "Bp79n2Yh-vEh"
      },
      "outputs": [],
      "source": [
        "%%capture\n",
        "\n",
        "# set up stable diffusion\n",
        "# download diffusion\n",
        "model_id = \"runwayml/stable-diffusion-v1-5\"\n",
        "pipe = StableDiffusionPipeline.from_pretrained(model_id, torch_dtype=torch.float16)\n",
        "\n",
        "# gets rid of content warnings for more data; can remove\n",
        "pipe.safety_checker = lambda images, clip_input=\"\": (images, False)\n",
        "pipe = pipe.to(\"cuda\")\n",
        "\n",
        "# download clip\n",
        "model = CLIPModel.from_pretrained(\"openai/clip-vit-base-patch32\")\n",
        "processor = CLIPProcessor.from_pretrained(\"openai/clip-vit-base-patch32\")"
      ]
    },
    {
      "cell_type": "markdown",
      "metadata": {
        "id": "RN4x8KKmbxOG"
      },
      "source": [
        "## Choosing parameters for experiment\n",
        "\n",
        "In this section, we provide two datasets of artists, one with 62 artists selected through a set of criteria detailed in the writeup and another with 250 artists that have the highest amount of images in the LAION-aesthetics dataset. \n",
        "\n",
        "We set the prompt to be \"Artwork from [artist's name]\". `N` determines how many times the experiment would run. These parameters can be customized for further experiments if people want to play with the notebook. \n"
      ]
    },
    {
      "cell_type": "code",
      "execution_count": null,
      "metadata": {
        "id": "QOVNfWtlXXI9"
      },
      "outputs": [],
      "source": [
        "# 62 artists\n",
        "# artists = ['Raphael Lacoste', 'James Jean', 'Andy Kehoe', 'Jeremy Mann', 'Marc Simonetti', 'Ismail Inceoglu', 'Michael Cheval', 'Simon Stalenhag', 'Alex Ross', 'Brian Froud', 'Iain Faulkner', 'Ted Naismith', 'Artgerm', 'Mark Keathley', 'Jeremy Geddes', 'Janek Sedlar', 'Peter Mohrbacher', 'Naoto Hattori', 'Banksy', 'Greg Hildebrandt', 'Nathan Wirth', 'Yuumei', 'Brooke Shaden', 'Atey Ghailan', 'Dorina Costras', 'Filip Hodas', 'Erin Hanson', 'Botero', 'Ai Weiwei', 'Audrey Kawasaki', 'Odd Nerdrum', 'Ian McQue', 'Fabian Perez', 'David Hockney', 'Alex Andreev', 'Steve Henderson', 'Ryan McGinley', 'Peter Gric', 'Kehinde Wiley', 'Stephan Martiniere', 'Alex Grey', 'Catrin Welz-Stein', 'Anna Razumovskaya', 'RHADS', 'Amanda Clark', 'Beeple', 'Sparth', 'Michael Whelan', 'James Gilleard', 'Mikko Lagerstedt', 'Carne Griffiths', 'John Berkey', 'Alexander Jansson', 'Michael Parkes', 'Duy Huynh', 'John Howe', 'Tibor Nagy', 'Shepard Fairey', 'Charlie Bowater', 'Kevin Sloan', 'Andrea Kowch', 'Jimmy Lawlor']\n",
        "\n",
        "# 250 artists version \n",
        "# artists = ['Thomas Kinkade', 'Vincent Van Gogh', 'Leonid Afremov', 'Claude Monet', 'Edward Hopper', 'Norman Rockwell', 'William-Adolphe Bouguereau', 'Albert Bierstadt', 'John Singer Sargent', 'Pierre-Auguste Renoir', 'Frida Kahlo', 'John William Waterhouse', 'Winslow Homer', 'Walt Disney', 'Phil Koch', 'Thomas Moran', 'Paul C√©zanne', 'Camille Pissarro', 'Erin Hanson', 'Thomas Cole', 'Raphael', 'Steve Henderson', 'Pablo Picasso', 'Caspar David Friedrich', 'Ansel Adams', 'Diego Rivera', 'Steve McCurry', 'Bob Ross', 'John Atkinson Grimshaw', 'Rob Gonsalves', 'Paul Gauguin', 'James Tissot', 'Edouard Manet', 'Alphonse Mucha', 'Alfred Sisley', 'Fabian Perez', 'Gustave Courbet', 'Zaha Hadid', 'Jean-L√©on G√©r√¥me', 'Carl Larsson', 'Mary Cassatt', 'Sandro Botticelli', 'Daniel Ridgway Knight', 'Joaqu√≠n Sorolla', 'Andy Warhol', 'Kehinde Wiley', 'Alfred Eisenstaedt', 'Gustav Klimt', 'Dante Gabriel Rossetti', 'Tom Thomson', 'Edgar Degas', 'Utagawa Hiroshige', 'Camille Corot', 'Edward Steichen', 'David Hockney', 'Ivan Aivazovsky', 'Josephine Wall', 'Peter Paul Rubens', 'Henri Rousseau', 'Edward Burne-Jones', 'Pixar', 'Alexander McQueen', 'Anders Zorn', 'Jean Auguste Dominique Ingres', 'Franz Xaver Winterhalter', 'Katsushika Hokusai', 'John Constable', 'Canaletto', 'Gordon Parks', 'Shepard Fairey', 'George Inness', 'Anthony van Dyck', 'Vivian Maier', 'Catrin Welz-Stein', 'Lawren Harris', 'Salvador Dali', 'David Bowie', 'Agnes Cecile', 'Titian', 'Martin Johnson Heade', 'Scott Naismith', 'William Morris', 'Berthe Morisot', 'Vladimir Kush', 'William Holman Hunt', 'Edvard Munch', 'Joseph Mallord William Turner', 'Gustave Dor√©', 'Thomas Eakins', 'Ilya Repin', 'Amedeo Modigliani', 'Johannes Vermeer', 'Eyvind Earle', 'Ivan Shishkin', 'Rembrandt Van Rijn', 'Gil Elvgren', 'Nicholas Roerich', 'Henri Matisse', 'Thomas Gainsborough', 'Artgerm', 'Grant Wood', 'Studio Ghibli', 'Jeremy Mann', 'Mark Keathley', 'Maxfield Parrish', 'Andrew Wyeth', 'RHADS', 'David Lynch', 'Frederic Remington', 'Jan Van Eyck', 'Mikko Lagerstedt', 'Banksy', 'Michael Cheval', 'Anna Razumovskaya', 'Jean-Fran√ßois Millet', 'Thomas W Schaller', 'Charlie Bowater', 'El Greco', 'Paolo Roversi', 'Carne Griffiths', 'Man Ray', 'Andrew Macara', 'August Sander', 'Evelyn De Morgan', 'Sally Mann', 'William Blake', 'Oleg Oprisco', 'Yuumei', 'Helmut Newton', 'Henry Ossawa Tanner', 'Asher Brown Durand', 'teamLab', 'August Macke', 'Armand Guillaumin', 'Terry Redlin', 'Antoine Blanchard', 'Anna Ancher', 'Ohara Koson', 'Walter Langley', 'Yayoi Kusama', 'Stan Lee', 'Chuck Close', 'Albert Edelfelt', 'Mark Seliger', 'Eugene Delacroix', 'John Lavery', 'Theo van Rysselberghe', 'Marc Chagall', 'Rolf Armstrong', 'Brent Heighton', 'A.J.Casson', 'Egon Schiele', 'Maximilien Luce', 'Georges Seurat', 'Arthur Hughes', 'George Frederic Watts', 'Anton Mauve', 'Lucian Freud', 'Jessie Willcox Smith', 'Leonardo Da Vinci', 'Edward John Poynter', 'Brooke Shaden', 'J.M.W. Turner', 'Wassily Kandinsky', 'Wes Anderson', 'Jean-Honor√© Fragonard', 'Amanda Clark', 'Tom Roberts', 'Antonello da Messina', 'Hayao Miyazaki', 'Makoto Shinkai', 'Alfred Stevens', 'Slim Aarons', 'Albert Lynch', 'Andre Kohn', 'Daniel Garber', 'Jacek Yerka', 'Beatrix Potter', 'Rene Magritte', \"Georgia O'Keeffe\", 'Isaac Levitan', 'Frank Lloyd Wright', 'Gustave Moreau', 'Ai Weiwei', 'Ford Madox Brown', 'Tim Burton', 'Alfred Cheney Johnston', 'Duy Huynh', 'Michael Parkes', 'Tintoretto', 'Archibald Thorburn', 'Audrey Kawasaki', 'George Lucas', 'Arthur Streeton', 'Albrecht Durer', 'Andrea Kowch', 'Dorina Costras', 'Alex Ross', 'Hasui Kawase', 'Lucas Cranach the Elder', 'Antonio Mora', 'Briton Rivi√®re', 'Mandy Disher', 'Henri-Edmond Cross', 'Auguste Toulmouche', 'Hubert Robert', 'Syd Mead', 'Alyssa Monks', 'Carl Spitzweg', 'Edward Lear', 'Ralph McQuarrie', 'Sailor Moon', 'Simon Stalenhag', 'Edward Robert Hughes', 'Jules Bastien-Lepage', 'Richard S. Johnson', 'Rockwell Kent', 'Sparth', 'Arnold Bocklin', 'Arnold B√∂cklin', 'Lovis Corinth', 'Robert Hagan', 'Gregory Crewdson', 'Abbott Handerson Thayer', 'Thomas Benjamin Kennington', 'Gilbert Stuart', 'Louis Comfort Tiffany', 'Raphael Lacoste', 'Janek Sedlar', 'Jean Marc Nattier', 'Sherree Valentine Daines', 'Alexander Jansson', 'James Turrell', 'Alex Grey', 'Henri De Toulouse Lautrec', 'Anton Pieck', 'Andrew Atroshenko', 'Ramon Casas', 'Andy Kehoe', 'Andreas Achenbach', 'Eric Zener', 'H.P. Lovecraft', 'Kunisada', 'Jimmy Lawlor', 'Quentin Tarantino', 'Marianne North', 'Vivienne Westwood', 'Tom Bagshaw', 'Jeremy Lipking', 'John Martin']\n",
        "\n",
        "# 62 random names for control from https://randomwordgenerator.com/name.php\n",
        "# artists = ['Ariel Case', 'Wilfredo Flynn', 'Madeleine Tapia', 'Dion Mason', 'Aimee Donovan', 'Tim Burton', 'Gena Levy', 'Eleanor Monroe', 'Faye Mccarty', 'Jospeh Trevino', 'Leandro Hoover', 'Cary Haney', 'Hannah Carney', 'Claire Blackburn', 'Rodrick Carter', 'Alphonse Kelle', 'Zane Ray', 'Kristi Gregory', 'Leonor Garrett', 'Sergio Randall', 'Garfield Ingram', 'Vanessa Christian', 'Morton Burch', 'Abby Stokes', 'Marion Delacruz', 'Guillermo Chavez', 'Sid Quinn', 'Maynard Wilson', 'Jan Perez', 'Mose Weber', 'Tessa Sanchez', 'Dorsey Robbins', 'Maryellen Davies', 'Dario Hardy', 'Maxine Tucker', 'Amalia Velazquez', 'Ron Padilla', 'Margo Pace', 'Jorge Scott', 'Brett Pham', 'Bonita Good', 'Sara York', 'Randolph Stevens', 'Jefferson Rubio', 'Clair Glenn', 'Sang Jimenez', 'Blanche Zimmerman', 'Kristina Hampton', 'Jamal Cherry', 'Fanny Hunter', 'Walton Schultz', 'Hung Martinez', 'Marcus Phillips', 'Rose Nelson', 'Jerri Jacobs', 'Bertie Turner', 'Hubert Allen', 'Corine Solis', 'Pauline Hobbs', 'Tabitha Wright', 'Catherine Joseph', 'Eva Bullock']\n",
        "\n",
        "# prompt for each artist (can be customized)\n",
        "prompts = [f\"Artwork from {artist}\" for artist in artists]\n",
        "\n",
        "# run the experiment N times\n",
        "N = 10"
      ]
    },
    {
      "cell_type": "markdown",
      "metadata": {
        "id": "ViaS61gfczXw"
      },
      "source": [
        "## Running the experiment"
      ]
    },
    {
      "cell_type": "code",
      "execution_count": null,
      "metadata": {
        "id": "p-z7_LgL6Ami"
      },
      "outputs": [],
      "source": [
        "# parameters (most people wont need to worry about thest)\n",
        "images_per_pipeline = 6  # this helps with RAM issues\n",
        "cumulative_count = 0 \n",
        "artists_guessed = set()\n",
        "# expected artist should be equal to index\n",
        "expected = torch.arange(len(prompts))\n",
        "result = [] \n",
        "\n",
        "for i in range(N):\n",
        "  # need to break it up bc even with \"accelerate\" you still run into memory issues\n",
        "  images = []\n",
        "  for index in range(int(len(prompts)/images_per_pipeline)+2): \n",
        "      prompt_portion = prompts[images_per_pipeline*index:images_per_pipeline*(index+1)]\n",
        "      if prompt_portion:\n",
        "        images += pipe(prompt_portion).images\n",
        "\n",
        "  # plotting the images\n",
        "  n_col = 5\n",
        "  # setting the size; can be adjusted\n",
        "  plt.figure(figsize=(20, int(len(images) / n_col) * 5))\n",
        "  # plot each image in correct location with title given by artist name\n",
        "  for j in range(len(images)):\n",
        "    plt.subplot(int(len(images) / n_col) + 1, n_col, j + 1)\n",
        "    plt.imshow(images[j])\n",
        "    plt.title(artists[j], fontsize=13, fontweight='bold')\n",
        "    plt.xticks([])\n",
        "    plt.yticks([])\n",
        "  plt.savefig(f\"sd_imitation_{i}.png\")\n",
        "  plt.show()\n",
        "\n",
        "  # now let CLIP caption them using the prompts inserted. combine images1-4\n",
        "  # also change prompts for CLIP captioning\n",
        "  inputs = processor(text=prompts, images=images, return_tensors=\"pt\", padding=True) # pt means \"pytorch\"\n",
        "\n",
        "  # the results\n",
        "  outputs = model(**inputs)\n",
        "  logits_per_image = outputs.logits_per_image  # this is the image-text similarity score\n",
        "  probs = logits_per_image.softmax(dim=1)  # we can take the softmax to get the label probabilities\n",
        "\n",
        "  # best guess has highest probability\n",
        "  best_guess = torch.argmax(probs, dim=1)\n",
        "  artists_guessed.update(set(best_guess.tolist()))\n",
        "  print(best_guess)\n",
        "  # count number you get right by seeing where it matches w \"expected\", the vector we set up earlier\n",
        "  best_diff = best_guess - expected\n",
        "  best_count = len(prompts) - torch.count_nonzero(best_diff)\n",
        "  cumulative_count += len(prompts) - torch.count_nonzero(best_diff)\n",
        "  top3_guesses = torch.topk(probs, 3, dim=1).indices\n",
        "  top3_diff = torch.sub(top3_guesses, expected[:, None])\n",
        "  top3_count = torch.count_nonzero((top3_diff == 0).sum(dim=1))\n",
        "\n",
        "  # accuracy :) 0-indexing, so we add 1 to round number\n",
        "  print(f\"best guess count: {best_count / len(prompts)}\")\n",
        "  print(f\"top 3 guess count: {top3_count / len(prompts)}\")\n",
        "  print(f\"average: {cumulative_count / (len(prompts) * (i + 1))}\")\n",
        "  result.append((best_count, top3_count, cumulative_count))\n",
        "\n",
        "print(f\"amount of artists guessed at least once {len(artists_guessed)} out of total {len(prompts)}\")\n"
      ]
    }
  ],
  "metadata": {
    "accelerator": "GPU",
    "colab": {
      "machine_shape": "hm",
      "provenance": []
    },
    "gpuClass": "standard",
    "kernelspec": {
      "display_name": "Python 3",
      "name": "python3"
    },
    "language_info": {
      "name": "python"
    }
  },
  "nbformat": 4,
  "nbformat_minor": 0
}